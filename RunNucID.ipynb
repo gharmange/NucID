{
 "cells": [
  {
   "cell_type": "markdown",
   "metadata": {
    "id": "jPGQQH2HxIBf"
   },
   "source": [
    "## Connect to Google Drive and install packages "
   ]
  },
  {
   "cell_type": "code",
   "execution_count": null,
   "metadata": {
    "id": "lDdzD1NLwKWS"
   },
   "outputs": [],
   "source": [
    "#run once per session\n",
    "from google.colab import drive\n",
    "drive.mount('/content/drive')\n",
    "\n",
    "!pip install backports.cached-property\n",
    "!pip install imagecodecs"
   ]
  },
  {
   "cell_type": "markdown",
   "metadata": {
    "id": "tKIe4T_FxgCM"
   },
   "source": [
    "## Fill out variables and load packages"
   ]
  },
  {
   "cell_type": "code",
   "execution_count": null,
   "metadata": {
    "id": "t09006Edxfny"
   },
   "outputs": [],
   "source": [
    "import glob\n",
    "#Paths of tif files\n",
    "TIF_PATHS = glob.glob('/content/drive/MyDrive/Guillaume_Shared/NucID/10X_trainingData/Images_masks/dense/img4.tif')\n",
    "\n",
    "# enter values of um per pixel if using syd shaffer scope with 2x2 binning: 4X=3.25, 10X=1.29, 20X=.65, 60X=.22\n",
    "RunPixelSize = 1.29\n",
    "\n",
    "# enter the channel that contains nuclei, if there is only 1 channel enter 1\n",
    "NucleusChannel = 1\n",
    "\n",
    "# his is the directory to the weights you want to use\n",
    "WeightsPath = '/content/drive/MyDrive/Colab/NucID/weights/10X_ms.pt'\n",
    "\n",
    "\n",
    "#This is what level of confidence you want your model to have a nucleus is a nucleus to count it (ex. .2 means the model thinks there is a 20% chance there is a nucleus). you can also set the threshold to 0 and filter later\n",
    "Confidence_thresh = .4\n",
    "\n",
    "#This is the path to where all the packages are stored such as deeptile and yolov7\n",
    "PackagePath = '/content/drive/MyDrive/Colab/NucID/packages'\n",
    "\n",
    "\n",
    "\n",
    "\n",
    "\n",
    "### YOU SHOULD NOT NEED TO CHANGE THE PARAMETERS BELOW\n",
    "# This is the tile size the model takes in. The tile size is ideally the same size of tiles the model was trained on. For the models provided the tile size should stay 640\n",
    "tileSize=640\n",
    "\n",
    "#Enter the um per pixel value of the images used for training\n",
    "TrainPixelSize = 1.29\n",
    "\n",
    "#This is how much overlap there are between tiles, this should stay at .1 for most applications\n",
    "overlap=.1\n",
    "\n",
    "## DO NOT CHANGE THES LINES OF CODE\n",
    "#add path to packages\n",
    "import sys\n",
    "sys.path.append(PackagePath)\n",
    "sys.path.append(str(PackagePath + '/yolov7'))\n",
    "\n",
    "from nucid.Running_functions import Nucid, checkNucXY, FilterCoords\n",
    "\n",
    "print(TIF_PATHS)\n",
    "print(\"number of images to process: \" + str(len(TIF_PATHS)) )"
   ]
  },
  {
   "cell_type": "markdown",
   "metadata": {
    "id": "uMFJNvxD9bts"
   },
   "source": [
    "## Initiate NucID object"
   ]
  },
  {
   "cell_type": "code",
   "execution_count": null,
   "metadata": {
    "id": "0Yls2qPZ9bP-"
   },
   "outputs": [],
   "source": [
    "#initiate NucID object\n",
    "nid = Nucid(nuc_channel=NucleusChannel, weights_path=WeightsPath, package_path=PackagePath, conf_thresh=Confidence_thresh, tileSize=tileSize, overlap=overlap, run_um_per_pix=RunPixelSize, train_um_per_pix=TrainPixelSize)"
   ]
  },
  {
   "cell_type": "markdown",
   "metadata": {
    "id": "XH3_yHdN0VFZ"
   },
   "source": [
    "## Run NucID"
   ]
  },
  {
   "cell_type": "code",
   "execution_count": null,
   "metadata": {
    "id": "ffpul1gM0c9h"
   },
   "outputs": [],
   "source": [
    "#Run the Model\n",
    "for tif_path in TIF_PATHS:\n",
    "  nid.RunNucID(tif_path)"
   ]
  },
  {
   "cell_type": "markdown",
   "metadata": {
    "id": "BUJ3xrqb2BCE"
   },
   "source": [
    "Check if output coordinates are correct"
   ]
  },
  {
   "cell_type": "code",
   "execution_count": null,
   "metadata": {
    "id": "aC30vbj01-jJ"
   },
   "outputs": [],
   "source": [
    "#Path to tif file you want to check\n",
    "tifPath = nid.tif_path\n",
    "\n",
    "#Path to coordinate path for the tif file specified above\n",
    "coordPath = nid.coord_path\n",
    "\n",
    "#Check the XY coordinates\n",
    "checkNucXY(tif_path = tifPath, nucxy_path = coordPath, conf_thresh=0)"
   ]
  },
  {
   "cell_type": "markdown",
   "metadata": {
    "id": "qoDxQtwV5MZ3"
   },
   "source": [
    "Filter output coordinates by confidence"
   ]
  },
  {
   "cell_type": "code",
   "execution_count": 5,
   "metadata": {
    "executionInfo": {
     "elapsed": 6,
     "status": "ok",
     "timestamp": 1665525646046,
     "user": {
      "displayName": "Guillaume Harmage",
      "userId": "00152935874177622000"
     },
     "user_tz": 240
    },
    "id": "vjNvda7Z5SAS"
   },
   "outputs": [],
   "source": [
    "#Path to coordinate you want to filter\n",
    "coordPath = nid.coord_path\n",
    "#Confidence threshold you want to filter by\n",
    "Confidence_thresh = .4\n",
    "\n",
    "#Filter the corodinates\n",
    "FilterCoords(nucxy_path=coordPath, conf_thresh=Confidence_thresh)"
   ]
  },
  {
   "cell_type": "markdown",
   "metadata": {
    "id": "XkknFad85FHg"
   },
   "source": [
    "## Test model"
   ]
  },
  {
   "cell_type": "code",
   "execution_count": null,
   "metadata": {
    "id": "ymNRdasn5AJs"
   },
   "outputs": [],
   "source": [
    "#coordinate of center of tile you would like to test the model on\n",
    "Coordinate = [500,630]\n",
    "\n",
    "#Run fuction to test the model\n",
    "%matplotlib inline\n",
    "nid.TestModel(location = Coordinate ,min_brightness=.15,figSize=20)"
   ]
  },
  {
   "cell_type": "code",
   "execution_count": null,
   "metadata": {
    "id": "NFGVEWgfD0WW"
   },
   "outputs": [],
   "source": []
  }
 ],
 "metadata": {
  "accelerator": "GPU",
  "colab": {
   "authorship_tag": "ABX9TyMA7kJ6voFnBotOM6qEoYZB",
   "provenance": []
  },
  "gpuClass": "standard",
  "kernelspec": {
   "display_name": "Python 3",
   "language": "python",
   "name": "python3"
  },
  "language_info": {
   "codemirror_mode": {
    "name": "ipython",
    "version": 3
   },
   "file_extension": ".py",
   "mimetype": "text/x-python",
   "name": "python",
   "nbconvert_exporter": "python",
   "pygments_lexer": "ipython3",
   "version": "3.8.13"
  }
 },
 "nbformat": 4,
 "nbformat_minor": 1
}
