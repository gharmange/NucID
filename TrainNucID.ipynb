{
 "cells": [
  {
   "cell_type": "markdown",
   "metadata": {
    "id": "MufE_sF3KfLT"
   },
   "source": [
    "## Connect to Google Drive and install packages "
   ]
  },
  {
   "cell_type": "code",
   "execution_count": null,
   "metadata": {
    "id": "r7hLb48RAKZB"
   },
   "outputs": [],
   "source": [
    "#run once per session\n",
    "from google.colab import drive\n",
    "drive.mount('/content/drive')\n",
    "\n",
    "!pip install backports.cached-property\n",
    "!pip install imagecodecs"
   ]
  },
  {
   "cell_type": "markdown",
   "metadata": {
    "id": "_C5AzkRTKn8w"
   },
   "source": [
    "## Import packages"
   ]
  },
  {
   "cell_type": "code",
   "execution_count": null,
   "metadata": {
    "id": "lAsQ9nAsWRqa"
   },
   "outputs": [],
   "source": [
    "import sys\n",
    "#add folder containing packages\n",
    "sys.path.append('/content/drive/MyDrive/Colab/nucID_pkgs')\n",
    "import glob\n",
    "from nucid.Training_functions import FilterMask, MakeTrainingData, MakeValData, CheckBB, FindBalanceData, BalanceData"
   ]
  },
  {
   "cell_type": "markdown",
   "metadata": {
    "id": "gZRao4nh67cx"
   },
   "source": [
    "# **Filter Mask Files**\n",
    "\n",
    "Sometimes (especially in 4x images) segmentation of nuclei can be noisy generating objects that are clearly not cells. These objects can sometimes be removed using simple size exclusion which is implemented by the funtion below."
   ]
  },
  {
   "cell_type": "code",
   "execution_count": null,
   "metadata": {
    "id": "amlEn08H7l_m"
   },
   "outputs": [],
   "source": [
    "#Path to Tif files\n",
    "MASKS = '/content/drive/MyDrive/Guillaume_Shared/NucID/4X_trainingData/20220829_151508_481__Plate000_Well1_ChannelDAPI_Seq0000_tissue_mask.tif'\n",
    "#minimum allowed area for a mask\n",
    "min_area = 0\n",
    "#maximum allowed area for a mask\n",
    "max_area = 300\n",
    "\n",
    "# Set this to true if you would like to check the results of filtering (NOTE: this uses a lot of RAM if there are a lot of cells and can crash the session)\n",
    "check_mask = True\n",
    "#only need this if check_mask is 'True'\n",
    "IMAGES = '/content/drive/MyDrive/Guillaume_Shared/NucID/4X_trainingData/20220829_151508_481__Plate000_Well1_ChannelDAPI_Seq0000.tif'\n",
    "\n",
    "IMAGES.sort()\n",
    "MASKS.sort()\n",
    "print(IMAGES)\n",
    "print(MASKS)\n",
    "\n",
    "if len(MASKS) == len(IMAGES):\n",
    "  for i in range(len(MASKS)):\n",
    "    FilterMask(MASKS[i],min_area,max_area,IMAGES[i],check_mask)\n",
    "else:\n",
    "  for i in range(len(MASKS)):\n",
    "    FilterMask(MASKS[i],min_area,max_area,None,False)"
   ]
  },
  {
   "cell_type": "markdown",
   "metadata": {
    "id": "hR65EPBm9u2b"
   },
   "source": [
    "# **Generate Training Data**\n",
    "\n",
    "This section takes in a list of of images and masks and generates training data in the correct format for training NucID."
   ]
  },
  {
   "cell_type": "code",
   "execution_count": null,
   "metadata": {
    "colab": {
     "base_uri": "https://localhost:8080/"
    },
    "executionInfo": {
     "elapsed": 2191,
     "status": "ok",
     "timestamp": 1664799760344,
     "user": {
      "displayName": "Guillaume Harmage",
      "userId": "00152935874177622000"
     },
     "user_tz": 240
    },
    "id": "-ibZ4WvHXwvt",
    "outputId": "91e0d69f-4b30-41fd-df2e-9fd2d50407a0"
   },
   "outputs": [
    {
     "name": "stdout",
     "output_type": "stream",
     "text": [
      "['/content/drive/MyDrive/Guillaume_Shared/NucID/4X_trainingData/Images_masks/20220829_151508_481__Plate000_Well1_ChannelDAPI_Seq0000.tif', '/content/drive/MyDrive/Guillaume_Shared/NucID/4X_trainingData/Images_masks/20220829_151508_481__Plate000_Well3_ChannelDAPI_Seq0002.tif', '/content/drive/MyDrive/Guillaume_Shared/NucID/4X_trainingData/Images_masks/Plate2022_08_11_DLS032_Plate2_Well5_ChannelDAPI_Seq0004.tif']\n",
      "['/content/drive/MyDrive/Guillaume_Shared/NucID/4X_trainingData/Images_masks/20220829_151508_481__Plate000_Well1_ChannelDAPI_Seq0000_tissue_min0_max300_filtered_mask.tif', '/content/drive/MyDrive/Guillaume_Shared/NucID/4X_trainingData/Images_masks/20220829_151508_481__Plate000_Well3_ChannelDAPI_Seq0002_tissue_min0_max300_filtered_mask.tif', '/content/drive/MyDrive/Guillaume_Shared/NucID/4X_trainingData/Images_masks/Plate2022_08_11_DLS032_Plate2_Well5_ChannelDAPI_Seq0004_tissue_min0_max300_filtered_mask.tif']\n"
     ]
    }
   ],
   "source": [
    "#load variables\n",
    "#path to images you want to use as your training data\n",
    "TIFS = glob.glob('/content/drive/MyDrive/Guillaume_Shared/NucID/4X_trainingData/Images_masks/*[0-9].tif')\n",
    "#path to the images respective masks to the images you want to use as training data (note mask names have to be similar enough to images that the sort funtion will order the files the same, or you can input a list of paths in the correct order and comment out the sort function in lines 14 and 15 below)\n",
    "MASKS = glob.glob('/content/drive/MyDrive/Guillaume_Shared/NucID/4X_trainingData/Images_masks/*_filtered_mask.tif')\n",
    "#path where you wan the training data outputed\n",
    "OutPath = '/content/drive/MyDrive/Guillaume_Shared/NucID/4X_trainingData_320_upSize2'\n",
    "#channel in which the nuclear images are\n",
    "NuclearChannel = 1\n",
    "#how many image label pairs you want to include int your validation data set\n",
    "NumberOfValidation = 0\n",
    "\n",
    "\n",
    "## YOU SHOULD NOT NEED TO CHANGE SETTING BELLOW THIS UNLESS YOU ARE LOOKING FOR \"ADVANCED\" OPTIONS\n",
    "#size of tiles you want to train on (should be the same as the size tiles you will input into the model)\n",
    "tileSize = 320\n",
    "#overlap between tiles (.1 is usually good)\n",
    "overlap = .1\n",
    "\n",
    "#if you want to incres smaller tile to 640x640 say true\n",
    "upSize = True\n",
    "\n",
    "## NO MORE VARIABLE TO CHANGE\n",
    "TIFS.sort()\n",
    "MASKS.sort()\n",
    "print(TIFS)\n",
    "print(MASKS)"
   ]
  },
  {
   "cell_type": "code",
   "execution_count": null,
   "metadata": {
    "colab": {
     "base_uri": "https://localhost:8080/"
    },
    "executionInfo": {
     "elapsed": 157387,
     "status": "ok",
     "timestamp": 1664557183123,
     "user": {
      "displayName": "Guillaume Harmage",
      "userId": "00152935874177622000"
     },
     "user_tz": 240
    },
    "id": "UDxWjuNk1_dl",
    "outputId": "cef2dd2c-d70c-40f3-8f75-e620fabf03bf"
   },
   "outputs": [
    {
     "name": "stdout",
     "output_type": "stream",
     "text": [
      "processed file: /content/drive/MyDrive/Guillaume_Shared/NucID/4X_trainingData/Images_masks/20220829_151508_481__Plate000_Well1_ChannelDAPI_Seq0000.tif\n",
      "processed file: /content/drive/MyDrive/Guillaume_Shared/NucID/4X_trainingData/Images_masks/20220829_151508_481__Plate000_Well3_ChannelDAPI_Seq0002.tif\n",
      "processed file: /content/drive/MyDrive/Guillaume_Shared/NucID/4X_trainingData/Images_masks/Plate2022_08_11_DLS032_Plate2_Well5_ChannelDAPI_Seq0004.tif\n"
     ]
    }
   ],
   "source": [
    "#generate training Data\n",
    "for i in range(len(TIFS)):\n",
    "  MakeTrainingData(TIFS[i],MASKS[i],OutPath,NuclearChannel,NumberOfValidation,tileSize,overlap,i,upSize)\n",
    "  print('processed file: ' + TIFS[i])\n",
    "\n",
    "\n",
    "#take a subset of data generated above and use it for validation\n",
    "base_path = OutPath + \"/TrainingData\"\n",
    "MakeValData(base_path,NumberOfValidation)"
   ]
  },
  {
   "cell_type": "code",
   "execution_count": null,
   "metadata": {
    "id": "Hw-pPfUgH29W"
   },
   "outputs": [],
   "source": [
    "base_path = '/content/drive/MyDrive/Guillaume_Shared/NucID/4X_trainingData_320_upSize/TrainingData'\n",
    "NumberOfValidation = 50\n",
    "MakeValData(base_path,NumberOfValidation)"
   ]
  },
  {
   "cell_type": "markdown",
   "metadata": {
    "id": "_I4ZVgDm-qLO"
   },
   "source": [
    "# **Check Training Data**\n",
    "\n",
    "Before starting to train your model you may want to check that your images and labels are correct. This section takes in an example tile and label from your training data and plots the ground truth bouding boxes aroudn nuclei."
   ]
  },
  {
   "cell_type": "code",
   "execution_count": null,
   "metadata": {
    "id": "VfjOEIuF-ooR"
   },
   "outputs": [],
   "source": [
    "#path to image bounding box was generted for\n",
    "img_path = '/content/drive/MyDrive/Guillaume_Shared/NucID/4X_trainingData/TrainingData/val/images/020220829_151508_481__Plate000_Well1_ChannelDAPI_Seq0000_7_7.tif'\n",
    "#path to bounding box file for respective image (bounding box must be in yolo format)\n",
    "bb_path = '/content/drive/MyDrive/Guillaume_Shared/NucID/4X_trainingData/TrainingData/val/labels/020220829_151508_481__Plate000_Well1_ChannelDAPI_Seq0000_7_7.txt'\n",
    "\n",
    "CheckBB(img_path,bb_path,label_size=.5)"
   ]
  },
  {
   "cell_type": "markdown",
   "metadata": {
    "id": "uTmJCA9iFsOg"
   },
   "source": [
    "# **Balance Training Data**\n",
    "\n",
    "If your data set has a lot of empty tiles, or many very dense tiles this may cause the model to bias over or under counting nuclei. To avoid you can try balancing the data. This function tries to more evenly represent images with different number of bounding boxes in them."
   ]
  },
  {
   "cell_type": "code",
   "execution_count": null,
   "metadata": {
    "colab": {
     "base_uri": "https://localhost:8080/"
    },
    "executionInfo": {
     "elapsed": 50773,
     "status": "ok",
     "timestamp": 1664560986616,
     "user": {
      "displayName": "Guillaume Harmage",
      "userId": "00152935874177622000"
     },
     "user_tz": 240
    },
    "id": "JkzIdmpiZkmW",
    "outputId": "25f35dfb-f544-45de-f809-f0ba8980ad3d"
   },
   "outputs": [
    {
     "name": "stdout",
     "output_type": "stream",
     "text": [
      "The number of training files selected is: 2697\n"
     ]
    }
   ],
   "source": [
    "#path to labels of data you want to balance\n",
    "PATHS = glob.glob('/content/drive/MyDrive/Guillaume_Shared/NucID/4X_trainingData_320_upSize_minmax/TrainingData/train/labels/*.txt')\n",
    "#number of differen bins you want for splitting up files of diffrent sizes\n",
    "NumberOfBins = 4000\n",
    "#number of files you want to take per bin\n",
    "SamplesPerBin = 20\n",
    "\n",
    "#get subset of paths according to binning\n",
    "sub_PATHS = FindBalanceData(PATHS,NumberOfBins,SamplesPerBin)"
   ]
  },
  {
   "cell_type": "code",
   "execution_count": null,
   "metadata": {
    "id": "7SxE5SMUagJw"
   },
   "outputs": [],
   "source": [
    "#move files to balanced data set\n",
    "BalanceData(sub_PATHS)"
   ]
  },
  {
   "cell_type": "code",
   "execution_count": null,
   "metadata": {
    "id": "Oqc0mYH4JdiQ"
   },
   "outputs": [],
   "source": [
    "#take a subset of data generated above and use it for validation\n",
    "base_path = '/content/drive/MyDrive/Guillaume_Shared/NucID/4X_trainingData_320_upSize_minmax/Balanced'\n",
    "NumberOfValidation = 100\n",
    "\n",
    "MakeValData(base_path,NumberOfValidation)"
   ]
  },
  {
   "cell_type": "markdown",
   "metadata": {
    "id": "wh61qB42g6Y0"
   },
   "source": [
    "# **Train your model**\n",
    "\n",
    "Now that all the data is set up, train the model on your prepared data set\n"
   ]
  },
  {
   "cell_type": "code",
   "execution_count": null,
   "metadata": {
    "id": "h_b2ApC2g6Gl"
   },
   "outputs": [],
   "source": [
    "# train the model\n",
    "%cd /content/drive/MyDrive/Colab/nucID_pkgs/yolov7\n",
    "!python train.py --device 0 --batch-size 16 --epochs 50 --img 640 --data data/Nuclei_10X.yaml --hyp data/hyp.scratch.custom.yaml --cfg cfg/training/yolov7_nuc_cfg.yaml --weights '10X_ms.pt' --name tenXbalancedMscale_dense --multi-scale "
   ]
  },
  {
   "cell_type": "code",
   "execution_count": null,
   "metadata": {
    "id": "2qOKRj9bagBM"
   },
   "outputs": [],
   "source": [
    "#restart training if it crashes\n",
    "%cd /content/drive/MyDrive/Colab/nucID_pkgs/yolov7\n",
    "!python train.py --device 0 --batch-size 8 --epochs 250 --img 640 --data data/custom_data.yaml --hyp data/hyp.scratch.custom.yaml --cfg cfg/training/yolov7-custom.yaml --name yolov7-custom-transfer-allData --multi-scale --resume 'path/to/last.pt'"
   ]
  },
  {
   "cell_type": "code",
   "execution_count": null,
   "metadata": {
    "id": "19kY_8iUaf7A"
   },
   "outputs": [],
   "source": [
    "#take a subset of data generated above and use it for validation\n",
    "base_path = '/content/drive/MyDrive/Guillaume_Shared/NucID/10X_trainingData/TrainingData'\n",
    "MakeValData(base_path,70)"
   ]
  },
  {
   "cell_type": "code",
   "execution_count": null,
   "metadata": {
    "colab": {
     "base_uri": "https://localhost:8080/"
    },
    "executionInfo": {
     "elapsed": 209177,
     "status": "ok",
     "timestamp": 1663265481054,
     "user": {
      "displayName": "Guillaume Harmage",
      "userId": "00152935874177622000"
     },
     "user_tz": 240
    },
    "id": "hIeHTZXEaf1J",
    "outputId": "9f956d40-0d1f-492f-c3c7-c0aede2884d2"
   },
   "outputs": [
    {
     "name": "stdout",
     "output_type": "stream",
     "text": [
      "/bin/bash: /content/drive/MyDrive/Guillaume_Shared/NucID/10X_trainingData/TrainingData/train/images/*_Seq0002_0_0.tif: No such file or directory\n"
     ]
    }
   ],
   "source": [
    "!/content/drive/MyDrive/Guillaume_Shared/NucID/10X_trainingData/TrainingData/train/images/*_Seq0002_0_0.tif"
   ]
  },
  {
   "cell_type": "code",
   "execution_count": null,
   "metadata": {
    "colab": {
     "base_uri": "https://localhost:8080/"
    },
    "executionInfo": {
     "elapsed": 811,
     "status": "ok",
     "timestamp": 1663265096329,
     "user": {
      "displayName": "Guillaume Harmage",
      "userId": "00152935874177622000"
     },
     "user_tz": 240
    },
    "id": "o3HffokCafo1",
    "outputId": "85a09733-a95b-4a49-8e79-123591cc2934"
   },
   "outputs": [
    {
     "name": "stdout",
     "output_type": "stream",
     "text": [
      "/bin/bash: /content/drive/MyDrive/Guillaume_Shared/NucID/10X_trainingData/TrainingData/train/images/*_Seq0002_0_0.txt: No such file or directory\n"
     ]
    }
   ],
   "source": [
    "!/content/drive/MyDrive/Guillaume_Shared/NucID/10X_trainingData/TrainingData/train/images/*_Seq0002_0_0.txt\n"
   ]
  },
  {
   "cell_type": "code",
   "execution_count": null,
   "metadata": {
    "colab": {
     "base_uri": "https://localhost:8080/"
    },
    "executionInfo": {
     "elapsed": 391,
     "status": "ok",
     "timestamp": 1663263140385,
     "user": {
      "displayName": "Guillaume Harmage",
      "userId": "00152935874177622000"
     },
     "user_tz": 240
    },
    "id": "ANUGwqOLafcW",
    "outputId": "4add5806-fe1e-4d62-8c3e-36e512324b07"
   },
   "outputs": [
    {
     "name": "stdout",
     "output_type": "stream",
     "text": [
      "/bin/bash: /content/drive/MyDrive/Guillaume_Shared/NucID/10X_trainingData/TrainingData/train/labels/1020220713_111234_109__Plate000_Well2_ChannelDAPI_Seq0001_42_4.txt: Permission denied\n"
     ]
    }
   ],
   "source": [
    "!/content/drive/MyDrive/Guillaume_Shared/NucID/10X_trainingData/TrainingData/train/labels/1020220713_111234_109__Plate000_Well2_ChannelDAPI_Seq0001_42_4.txt"
   ]
  },
  {
   "cell_type": "code",
   "execution_count": null,
   "metadata": {
    "id": "1JT__BXyafKm"
   },
   "outputs": [],
   "source": [
    "!"
   ]
  },
  {
   "cell_type": "code",
   "execution_count": null,
   "metadata": {
    "id": "iiCZ7ndnaekp"
   },
   "outputs": [],
   "source": []
  }
 ],
 "metadata": {
  "accelerator": "GPU",
  "colab": {
   "background_execution": "on",
   "collapsed_sections": [],
   "machine_shape": "hm",
   "provenance": [
    {
     "file_id": "1FjcvNkHqmVqLSubeuFH013KUyHv0_W21",
     "timestamp": 1663182331644
    },
    {
     "file_id": "1he-GpTeL34Vd622WwYqU5M6cEy42wBWS",
     "timestamp": 1662657958760
    }
   ]
  },
  "gpuClass": "premium",
  "kernelspec": {
   "display_name": "Python 3",
   "language": "python",
   "name": "python3"
  },
  "language_info": {
   "codemirror_mode": {
    "name": "ipython",
    "version": 3
   },
   "file_extension": ".py",
   "mimetype": "text/x-python",
   "name": "python",
   "nbconvert_exporter": "python",
   "pygments_lexer": "ipython3",
   "version": "3.8.13"
  }
 },
 "nbformat": 4,
 "nbformat_minor": 1
}
